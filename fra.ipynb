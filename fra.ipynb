{
 "cells": [
  {
   "cell_type": "code",
   "execution_count": 11,
   "metadata": {},
   "outputs": [
    {
     "name": "stderr",
     "output_type": "stream",
     "text": [
      "WARNING:absl:Compiled the loaded model, but the compiled metrics have yet to be built. `model.compile_metrics` will be empty until you train or evaluate the model.\n"
     ]
    },
    {
     "name": "stdout",
     "output_type": "stream",
     "text": [
      "\u001b[1m1/1\u001b[0m \u001b[32m━━━━━━━━━━━━━━━━━━━━\u001b[0m\u001b[37m\u001b[0m \u001b[1m0s\u001b[0m 75ms/step\n",
      "[[0.24745795 0.752542  ]]\n",
      "0.5\n",
      "Predicted class: Fractured\n"
     ]
    }
   ],
   "source": [
    "import cv2\n",
    "import numpy as np\n",
    "from keras.models import load_model\n",
    "\n",
    "# Load the saved model\n",
    "model = load_model('C:\\\\Users\\\\sahaj\\\\Downloads\\\\fracture_cnn_model.h5')\n",
    "\n",
    "# Load and preprocess the image\n",
    "image_path = 'C:\\\\Users\\\\sahaj\\\\Downloads\\\\IMG0002393.jpg'\n",
    "image = cv2.imread(image_path)\n",
    "image = cv2.resize(image, (225, 225))  # Resize the image to match the input shape of your model\n",
    "image = image.astype('float32') / 255  # Normalize the pixel values to the range [0, 1]\n",
    "image = np.expand_dims(image, axis=0)  # Add batch dimension\n",
    "\n",
    "# Make predictions\n",
    "predictions = model.predict(image)\n",
    "\n",
    "# Get the predicted class (assuming binary classification)\n",
    "print(predictions)\n",
    "#predicted_class = np.argmax(predictions)\n",
    "avg_probabilities = np.mean(np.mean(predictions, axis=0))\n",
    "print(avg_probabilities)\n",
    "# Display the predicted class\n",
    "if avg_probabilities <= 0.49:\n",
    "    print(\"Predicted class: Non-fractured\")\n",
    "else:\n",
    "    print(\"Predicted class: Fractured\")\n"
   ]
  }
 ],
 "metadata": {
  "kernelspec": {
   "display_name": "Python 3",
   "language": "python",
   "name": "python3"
  },
  "language_info": {
   "codemirror_mode": {
    "name": "ipython",
    "version": 3
   },
   "file_extension": ".py",
   "mimetype": "text/x-python",
   "name": "python",
   "nbconvert_exporter": "python",
   "pygments_lexer": "ipython3",
   "version": "3.12.0"
  }
 },
 "nbformat": 4,
 "nbformat_minor": 2
}
